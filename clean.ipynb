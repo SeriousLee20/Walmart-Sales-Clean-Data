{
 "cells": [
  {
   "cell_type": "code",
   "execution_count": 200,
   "metadata": {},
   "outputs": [],
   "source": [
    "# %pip install plotly"
   ]
  },
  {
   "cell_type": "code",
   "execution_count": 223,
   "metadata": {},
   "outputs": [],
   "source": [
    "import pandas as pd\n",
    "import numpy as np\n",
    "import csv\n",
    "from sklearn.linear_model import LinearRegression\n",
    "from sklearn.linear_model import LogisticRegression\n",
    "from sklearn import metrics\n",
    "import matplotlib.pyplot as plt\n",
    "import seaborn as sns"
   ]
  },
  {
   "cell_type": "markdown",
   "metadata": {},
   "source": [
    "### Load Datasets"
   ]
  },
  {
   "cell_type": "code",
   "execution_count": 202,
   "metadata": {},
   "outputs": [
    {
     "name": "stdout",
     "output_type": "stream",
     "text": [
      "   Store        Date  Temperature  Fuel_Price  MarkDown1  MarkDown2  \\\n",
      "0      1  05/02/2010        42.31       2.572        NaN        NaN   \n",
      "1      1  12/02/2010        38.51       2.548        NaN        NaN   \n",
      "2      1  19/02/2010        39.93       2.514        NaN        NaN   \n",
      "3      1  26/02/2010        46.63       2.561        NaN        NaN   \n",
      "4      1  05/03/2010        46.50       2.625        NaN        NaN   \n",
      "\n",
      "   MarkDown3  MarkDown4  MarkDown5         CPI  Unemployment  IsHoliday  \n",
      "0        NaN        NaN        NaN  211.096358         8.106      False  \n",
      "1        NaN        NaN        NaN  211.242170         8.106       True  \n",
      "2        NaN        NaN        NaN  211.289143         8.106      False  \n",
      "3        NaN        NaN        NaN  211.319643         8.106      False  \n",
      "4        NaN        NaN        NaN  211.350143         8.106      False  \n"
     ]
    }
   ],
   "source": [
    "feat_df = pd.read_csv('FeaturesDataset.csv', parse_dates=['Date'])\n",
    "print(feat_df.head())"
   ]
  },
  {
   "cell_type": "code",
   "execution_count": 203,
   "metadata": {},
   "outputs": [
    {
     "name": "stdout",
     "output_type": "stream",
     "text": [
      "   Store  Dept        Date  Weekly_Sales  IsHoliday\n",
      "0      1     1  05/02/2010      24924.50      False\n",
      "1      1     1  12/02/2010      46039.49       True\n",
      "2      1     1  19/02/2010      41595.55      False\n",
      "3      1     1  26/02/2010      19403.54      False\n",
      "4      1     1  05/03/2010      21827.90      False\n"
     ]
    }
   ],
   "source": [
    "sales_df = pd.read_csv('SalesDataset.csv', parse_dates=['Date'])\n",
    "print(sales_df.head())"
   ]
  },
  {
   "cell_type": "markdown",
   "metadata": {},
   "source": [
    "### Overview on dataset structures\n",
    "* replace NA with 0 because no markdown data means markdown not available\n",
    "* markdown only available when there's promotions\n",
    "* CPI and Unemployment will be inferenced using linear regression because it depends on the Store, Dept, and Date"
   ]
  },
  {
   "cell_type": "code",
   "execution_count": 205,
   "metadata": {},
   "outputs": [
    {
     "name": "stdout",
     "output_type": "stream",
     "text": [
      "-------FEATURES-------\n",
      "<class 'pandas.core.frame.DataFrame'>\n",
      "RangeIndex: 8190 entries, 0 to 8189\n",
      "Data columns (total 12 columns):\n",
      " #   Column        Non-Null Count  Dtype  \n",
      "---  ------        --------------  -----  \n",
      " 0   Store         8190 non-null   int64  \n",
      " 1   Date          8190 non-null   object \n",
      " 2   Temperature   8190 non-null   float64\n",
      " 3   Fuel_Price    8190 non-null   float64\n",
      " 4   MarkDown1     4032 non-null   float64\n",
      " 5   MarkDown2     2921 non-null   float64\n",
      " 6   MarkDown3     3613 non-null   float64\n",
      " 7   MarkDown4     3464 non-null   float64\n",
      " 8   MarkDown5     4050 non-null   float64\n",
      " 9   CPI           7605 non-null   float64\n",
      " 10  Unemployment  7605 non-null   float64\n",
      " 11  IsHoliday     8190 non-null   bool   \n",
      "dtypes: bool(1), float64(9), int64(1), object(1)\n",
      "memory usage: 712.0+ KB\n",
      "None\n"
     ]
    }
   ],
   "source": [
    "print('-------FEATURES-------')\n",
    "print(feat_df.info())"
   ]
  },
  {
   "cell_type": "code",
   "execution_count": 222,
   "metadata": {},
   "outputs": [
    {
     "name": "stdout",
     "output_type": "stream",
     "text": [
      "Store             0\n",
      "Date              0\n",
      "Temperature       0\n",
      "Fuel_Price        0\n",
      "MarkDown1         0\n",
      "MarkDown2         0\n",
      "MarkDown3         0\n",
      "MarkDown4         0\n",
      "MarkDown5         0\n",
      "CPI             585\n",
      "Unemployment    585\n",
      "IsHoliday         0\n",
      "dtype: int64\n"
     ]
    }
   ],
   "source": [
    "print(feat_df.isnull().sum())"
   ]
  },
  {
   "cell_type": "code",
   "execution_count": 206,
   "metadata": {},
   "outputs": [
    {
     "name": "stdout",
     "output_type": "stream",
     "text": [
      "-------SALES-------\n",
      "<class 'pandas.core.frame.DataFrame'>\n",
      "RangeIndex: 421570 entries, 0 to 421569\n",
      "Data columns (total 5 columns):\n",
      " #   Column        Non-Null Count   Dtype  \n",
      "---  ------        --------------   -----  \n",
      " 0   Store         421570 non-null  int64  \n",
      " 1   Dept          421570 non-null  int64  \n",
      " 2   Date          421570 non-null  object \n",
      " 3   Weekly_Sales  421570 non-null  float64\n",
      " 4   IsHoliday     421570 non-null  bool   \n",
      "dtypes: bool(1), float64(1), int64(2), object(1)\n",
      "memory usage: 13.3+ MB\n",
      "None\n"
     ]
    }
   ],
   "source": [
    "print('-------SALES-------')\n",
    "print(sales_df.info())"
   ]
  },
  {
   "cell_type": "markdown",
   "metadata": {},
   "source": [
    "### Check for 0 in Markdown columns\n",
    "* to make sure 0 does not exist"
   ]
  },
  {
   "cell_type": "code",
   "execution_count": 209,
   "metadata": {},
   "outputs": [
    {
     "name": "stdout",
     "output_type": "stream",
     "text": [
      "0 in features dataset\n",
      " Store           0.0\n",
      "Date              0\n",
      "Temperature     0.0\n",
      "Fuel_Price      0.0\n",
      "MarkDown1       0.0\n",
      "MarkDown2       0.0\n",
      "MarkDown3       0.0\n",
      "MarkDown4       0.0\n",
      "MarkDown5       0.0\n",
      "CPI             0.0\n",
      "Unemployment    0.0\n",
      "IsHoliday         0\n",
      "dtype: object\n"
     ]
    }
   ],
   "source": [
    "print('0 in features dataset\\n', feat_df.where(feat_df == 0).sum())"
   ]
  },
  {
   "cell_type": "markdown",
   "metadata": {},
   "source": [
    "### Replace NA in Markdown columns with 0"
   ]
  },
  {
   "cell_type": "code",
   "execution_count": 210,
   "metadata": {},
   "outputs": [
    {
     "data": {
      "text/html": [
       "<div>\n",
       "<style scoped>\n",
       "    .dataframe tbody tr th:only-of-type {\n",
       "        vertical-align: middle;\n",
       "    }\n",
       "\n",
       "    .dataframe tbody tr th {\n",
       "        vertical-align: top;\n",
       "    }\n",
       "\n",
       "    .dataframe thead th {\n",
       "        text-align: right;\n",
       "    }\n",
       "</style>\n",
       "<table border=\"1\" class=\"dataframe\">\n",
       "  <thead>\n",
       "    <tr style=\"text-align: right;\">\n",
       "      <th></th>\n",
       "      <th>Store</th>\n",
       "      <th>Date</th>\n",
       "      <th>Temperature</th>\n",
       "      <th>Fuel_Price</th>\n",
       "      <th>MarkDown1</th>\n",
       "      <th>MarkDown2</th>\n",
       "      <th>MarkDown3</th>\n",
       "      <th>MarkDown4</th>\n",
       "      <th>MarkDown5</th>\n",
       "      <th>CPI</th>\n",
       "      <th>Unemployment</th>\n",
       "      <th>IsHoliday</th>\n",
       "    </tr>\n",
       "  </thead>\n",
       "  <tbody>\n",
       "    <tr>\n",
       "      <th>0</th>\n",
       "      <td>1</td>\n",
       "      <td>05/02/2010</td>\n",
       "      <td>42.31</td>\n",
       "      <td>2.572</td>\n",
       "      <td>0.0</td>\n",
       "      <td>0.0</td>\n",
       "      <td>0.0</td>\n",
       "      <td>0.0</td>\n",
       "      <td>0.0</td>\n",
       "      <td>211.096358</td>\n",
       "      <td>8.106</td>\n",
       "      <td>False</td>\n",
       "    </tr>\n",
       "    <tr>\n",
       "      <th>1</th>\n",
       "      <td>1</td>\n",
       "      <td>12/02/2010</td>\n",
       "      <td>38.51</td>\n",
       "      <td>2.548</td>\n",
       "      <td>0.0</td>\n",
       "      <td>0.0</td>\n",
       "      <td>0.0</td>\n",
       "      <td>0.0</td>\n",
       "      <td>0.0</td>\n",
       "      <td>211.242170</td>\n",
       "      <td>8.106</td>\n",
       "      <td>True</td>\n",
       "    </tr>\n",
       "    <tr>\n",
       "      <th>2</th>\n",
       "      <td>1</td>\n",
       "      <td>19/02/2010</td>\n",
       "      <td>39.93</td>\n",
       "      <td>2.514</td>\n",
       "      <td>0.0</td>\n",
       "      <td>0.0</td>\n",
       "      <td>0.0</td>\n",
       "      <td>0.0</td>\n",
       "      <td>0.0</td>\n",
       "      <td>211.289143</td>\n",
       "      <td>8.106</td>\n",
       "      <td>False</td>\n",
       "    </tr>\n",
       "    <tr>\n",
       "      <th>3</th>\n",
       "      <td>1</td>\n",
       "      <td>26/02/2010</td>\n",
       "      <td>46.63</td>\n",
       "      <td>2.561</td>\n",
       "      <td>0.0</td>\n",
       "      <td>0.0</td>\n",
       "      <td>0.0</td>\n",
       "      <td>0.0</td>\n",
       "      <td>0.0</td>\n",
       "      <td>211.319643</td>\n",
       "      <td>8.106</td>\n",
       "      <td>False</td>\n",
       "    </tr>\n",
       "    <tr>\n",
       "      <th>4</th>\n",
       "      <td>1</td>\n",
       "      <td>05/03/2010</td>\n",
       "      <td>46.50</td>\n",
       "      <td>2.625</td>\n",
       "      <td>0.0</td>\n",
       "      <td>0.0</td>\n",
       "      <td>0.0</td>\n",
       "      <td>0.0</td>\n",
       "      <td>0.0</td>\n",
       "      <td>211.350143</td>\n",
       "      <td>8.106</td>\n",
       "      <td>False</td>\n",
       "    </tr>\n",
       "  </tbody>\n",
       "</table>\n",
       "</div>"
      ],
      "text/plain": [
       "   Store        Date  Temperature  Fuel_Price  MarkDown1  MarkDown2  \\\n",
       "0      1  05/02/2010        42.31       2.572        0.0        0.0   \n",
       "1      1  12/02/2010        38.51       2.548        0.0        0.0   \n",
       "2      1  19/02/2010        39.93       2.514        0.0        0.0   \n",
       "3      1  26/02/2010        46.63       2.561        0.0        0.0   \n",
       "4      1  05/03/2010        46.50       2.625        0.0        0.0   \n",
       "\n",
       "   MarkDown3  MarkDown4  MarkDown5         CPI  Unemployment  IsHoliday  \n",
       "0        0.0        0.0        0.0  211.096358         8.106      False  \n",
       "1        0.0        0.0        0.0  211.242170         8.106       True  \n",
       "2        0.0        0.0        0.0  211.289143         8.106      False  \n",
       "3        0.0        0.0        0.0  211.319643         8.106      False  \n",
       "4        0.0        0.0        0.0  211.350143         8.106      False  "
      ]
     },
     "execution_count": 210,
     "metadata": {},
     "output_type": "execute_result"
    }
   ],
   "source": [
    "feat_df['MarkDown1'].fillna(0, inplace=True)\n",
    "feat_df['MarkDown2'].fillna(0, inplace=True)\n",
    "feat_df['MarkDown3'].fillna(0, inplace=True)\n",
    "feat_df['MarkDown4'].fillna(0, inplace=True)\n",
    "feat_df['MarkDown5'].fillna(0, inplace=True)\n",
    "feat_df.head()"
   ]
  },
  {
   "cell_type": "markdown",
   "metadata": {},
   "source": [
    "### Merge tables\n",
    "* Merge features and sales tables\n",
    "* keys = Store, Date, IsHoliday\n",
    "* to match the rows to store and dept at maximum\n",
    "* no other data for matching store and dept"
   ]
  },
  {
   "cell_type": "code",
   "execution_count": 211,
   "metadata": {},
   "outputs": [
    {
     "data": {
      "text/html": [
       "<div>\n",
       "<style scoped>\n",
       "    .dataframe tbody tr th:only-of-type {\n",
       "        vertical-align: middle;\n",
       "    }\n",
       "\n",
       "    .dataframe tbody tr th {\n",
       "        vertical-align: top;\n",
       "    }\n",
       "\n",
       "    .dataframe thead th {\n",
       "        text-align: right;\n",
       "    }\n",
       "</style>\n",
       "<table border=\"1\" class=\"dataframe\">\n",
       "  <thead>\n",
       "    <tr style=\"text-align: right;\">\n",
       "      <th></th>\n",
       "      <th>Store</th>\n",
       "      <th>Temperature</th>\n",
       "      <th>Fuel_Price</th>\n",
       "      <th>MarkDown1</th>\n",
       "      <th>MarkDown2</th>\n",
       "      <th>MarkDown3</th>\n",
       "      <th>MarkDown4</th>\n",
       "      <th>MarkDown5</th>\n",
       "      <th>CPI</th>\n",
       "      <th>Unemployment</th>\n",
       "      <th>IsHoliday</th>\n",
       "      <th>Dept</th>\n",
       "      <th>Weekly_Sales</th>\n",
       "    </tr>\n",
       "    <tr>\n",
       "      <th>Date</th>\n",
       "      <th></th>\n",
       "      <th></th>\n",
       "      <th></th>\n",
       "      <th></th>\n",
       "      <th></th>\n",
       "      <th></th>\n",
       "      <th></th>\n",
       "      <th></th>\n",
       "      <th></th>\n",
       "      <th></th>\n",
       "      <th></th>\n",
       "      <th></th>\n",
       "      <th></th>\n",
       "    </tr>\n",
       "  </thead>\n",
       "  <tbody>\n",
       "    <tr>\n",
       "      <th>05/02/2010</th>\n",
       "      <td>1</td>\n",
       "      <td>42.31</td>\n",
       "      <td>2.572</td>\n",
       "      <td>0.0</td>\n",
       "      <td>0.0</td>\n",
       "      <td>0.0</td>\n",
       "      <td>0.0</td>\n",
       "      <td>0.0</td>\n",
       "      <td>211.096358</td>\n",
       "      <td>8.106</td>\n",
       "      <td>False</td>\n",
       "      <td>1.0</td>\n",
       "      <td>24924.50</td>\n",
       "    </tr>\n",
       "    <tr>\n",
       "      <th>05/02/2010</th>\n",
       "      <td>1</td>\n",
       "      <td>42.31</td>\n",
       "      <td>2.572</td>\n",
       "      <td>0.0</td>\n",
       "      <td>0.0</td>\n",
       "      <td>0.0</td>\n",
       "      <td>0.0</td>\n",
       "      <td>0.0</td>\n",
       "      <td>211.096358</td>\n",
       "      <td>8.106</td>\n",
       "      <td>False</td>\n",
       "      <td>2.0</td>\n",
       "      <td>50605.27</td>\n",
       "    </tr>\n",
       "    <tr>\n",
       "      <th>05/02/2010</th>\n",
       "      <td>1</td>\n",
       "      <td>42.31</td>\n",
       "      <td>2.572</td>\n",
       "      <td>0.0</td>\n",
       "      <td>0.0</td>\n",
       "      <td>0.0</td>\n",
       "      <td>0.0</td>\n",
       "      <td>0.0</td>\n",
       "      <td>211.096358</td>\n",
       "      <td>8.106</td>\n",
       "      <td>False</td>\n",
       "      <td>3.0</td>\n",
       "      <td>13740.12</td>\n",
       "    </tr>\n",
       "    <tr>\n",
       "      <th>05/02/2010</th>\n",
       "      <td>1</td>\n",
       "      <td>42.31</td>\n",
       "      <td>2.572</td>\n",
       "      <td>0.0</td>\n",
       "      <td>0.0</td>\n",
       "      <td>0.0</td>\n",
       "      <td>0.0</td>\n",
       "      <td>0.0</td>\n",
       "      <td>211.096358</td>\n",
       "      <td>8.106</td>\n",
       "      <td>False</td>\n",
       "      <td>4.0</td>\n",
       "      <td>39954.04</td>\n",
       "    </tr>\n",
       "    <tr>\n",
       "      <th>05/02/2010</th>\n",
       "      <td>1</td>\n",
       "      <td>42.31</td>\n",
       "      <td>2.572</td>\n",
       "      <td>0.0</td>\n",
       "      <td>0.0</td>\n",
       "      <td>0.0</td>\n",
       "      <td>0.0</td>\n",
       "      <td>0.0</td>\n",
       "      <td>211.096358</td>\n",
       "      <td>8.106</td>\n",
       "      <td>False</td>\n",
       "      <td>5.0</td>\n",
       "      <td>32229.38</td>\n",
       "    </tr>\n",
       "  </tbody>\n",
       "</table>\n",
       "</div>"
      ],
      "text/plain": [
       "            Store  Temperature  Fuel_Price  MarkDown1  MarkDown2  MarkDown3  \\\n",
       "Date                                                                          \n",
       "05/02/2010      1        42.31       2.572        0.0        0.0        0.0   \n",
       "05/02/2010      1        42.31       2.572        0.0        0.0        0.0   \n",
       "05/02/2010      1        42.31       2.572        0.0        0.0        0.0   \n",
       "05/02/2010      1        42.31       2.572        0.0        0.0        0.0   \n",
       "05/02/2010      1        42.31       2.572        0.0        0.0        0.0   \n",
       "\n",
       "            MarkDown4  MarkDown5         CPI  Unemployment  IsHoliday  Dept  \\\n",
       "Date                                                                          \n",
       "05/02/2010        0.0        0.0  211.096358         8.106      False   1.0   \n",
       "05/02/2010        0.0        0.0  211.096358         8.106      False   2.0   \n",
       "05/02/2010        0.0        0.0  211.096358         8.106      False   3.0   \n",
       "05/02/2010        0.0        0.0  211.096358         8.106      False   4.0   \n",
       "05/02/2010        0.0        0.0  211.096358         8.106      False   5.0   \n",
       "\n",
       "            Weekly_Sales  \n",
       "Date                      \n",
       "05/02/2010      24924.50  \n",
       "05/02/2010      50605.27  \n",
       "05/02/2010      13740.12  \n",
       "05/02/2010      39954.04  \n",
       "05/02/2010      32229.38  "
      ]
     },
     "execution_count": 211,
     "metadata": {},
     "output_type": "execute_result"
    }
   ],
   "source": [
    "merged_df = pd.merge(feat_df, sales_df, how='left', left_on=['Store', 'Date', 'IsHoliday'], right_on=['Store', 'Date', 'IsHoliday'])\n",
    "merged_df = merged_df.set_index('Date')\n",
    "merged_df.head()"
   ]
  },
  {
   "cell_type": "markdown",
   "metadata": {},
   "source": [
    "### Structure of merged data"
   ]
  },
  {
   "cell_type": "code",
   "execution_count": 196,
   "metadata": {},
   "outputs": [
    {
     "name": "stdout",
     "output_type": "stream",
     "text": [
      "<class 'pandas.core.frame.DataFrame'>\n",
      "Index: 423325 entries, 05/02/2010 to 26/07/2013\n",
      "Data columns (total 13 columns):\n",
      " #   Column        Non-Null Count   Dtype  \n",
      "---  ------        --------------   -----  \n",
      " 0   Store         423325 non-null  int64  \n",
      " 1   Temperature   423325 non-null  float64\n",
      " 2   Fuel_Price    423325 non-null  float64\n",
      " 3   MarkDown1     423325 non-null  float64\n",
      " 4   MarkDown2     423325 non-null  float64\n",
      " 5   MarkDown3     423325 non-null  float64\n",
      " 6   MarkDown4     423325 non-null  float64\n",
      " 7   MarkDown5     423325 non-null  float64\n",
      " 8   CPI           422740 non-null  float64\n",
      " 9   Unemployment  422740 non-null  float64\n",
      " 10  IsHoliday     423325 non-null  bool   \n",
      " 11  Dept          421570 non-null  float64\n",
      " 12  Weekly_Sales  421570 non-null  float64\n",
      "dtypes: bool(1), float64(11), int64(1)\n",
      "memory usage: 42.4+ MB\n"
     ]
    }
   ],
   "source": [
    "merged_df.info()"
   ]
  },
  {
   "cell_type": "code",
   "execution_count": 197,
   "metadata": {},
   "outputs": [
    {
     "data": {
      "text/plain": [
       "Store              0\n",
       "Temperature        0\n",
       "Fuel_Price         0\n",
       "MarkDown1          0\n",
       "MarkDown2          0\n",
       "MarkDown3          0\n",
       "MarkDown4          0\n",
       "MarkDown5          0\n",
       "CPI              585\n",
       "Unemployment     585\n",
       "IsHoliday          0\n",
       "Dept            1755\n",
       "Weekly_Sales    1755\n",
       "dtype: int64"
      ]
     },
     "execution_count": 197,
     "metadata": {},
     "output_type": "execute_result"
    }
   ],
   "source": [
    "merged_df.isnull().sum()"
   ]
  },
  {
   "cell_type": "markdown",
   "metadata": {},
   "source": [
    "### Check for null rows\n",
    "* in Dept and Weekly_Sales\n",
    "    * all of the rows with NA in CPI and Unemployment exist in the rows with NA in Dept and Weekly_Sales"
   ]
  },
  {
   "cell_type": "code",
   "execution_count": 220,
   "metadata": {},
   "outputs": [
    {
     "name": "stdout",
     "output_type": "stream",
     "text": [
      "Store           1755\n",
      "Temperature     1755\n",
      "Fuel_Price      1755\n",
      "MarkDown1       1755\n",
      "MarkDown2       1755\n",
      "MarkDown3       1755\n",
      "MarkDown4       1755\n",
      "MarkDown5       1755\n",
      "CPI             1170\n",
      "Unemployment    1170\n",
      "IsHoliday       1755\n",
      "Dept               0\n",
      "Weekly_Sales       0\n",
      "dtype: int64\n"
     ]
    },
    {
     "data": {
      "text/plain": [
       "Store              0\n",
       "Temperature        0\n",
       "Fuel_Price         0\n",
       "MarkDown1          0\n",
       "MarkDown2          0\n",
       "MarkDown3          0\n",
       "MarkDown4          0\n",
       "MarkDown5          0\n",
       "CPI              585\n",
       "Unemployment     585\n",
       "IsHoliday          0\n",
       "Dept            1755\n",
       "Weekly_Sales    1755\n",
       "dtype: int64"
      ]
     },
     "execution_count": 220,
     "metadata": {},
     "output_type": "execute_result"
    }
   ],
   "source": [
    "null_rows = merged_df.loc[merged_df['Dept'].isnull() & merged_df['Weekly_Sales'].isnull()]\n",
    "print(null_rows.count())\n",
    "null_rows.isnull().sum()"
   ]
  },
  {
   "cell_type": "markdown",
   "metadata": {},
   "source": [
    "### Drop rows with null values\n",
    "* in Dept and Weekly_Sales"
   ]
  },
  {
   "cell_type": "code",
   "execution_count": 199,
   "metadata": {},
   "outputs": [
    {
     "data": {
      "text/plain": [
       "Store           0\n",
       "Temperature     0\n",
       "Fuel_Price      0\n",
       "MarkDown1       0\n",
       "MarkDown2       0\n",
       "MarkDown3       0\n",
       "MarkDown4       0\n",
       "MarkDown5       0\n",
       "CPI             0\n",
       "Unemployment    0\n",
       "IsHoliday       0\n",
       "Dept            0\n",
       "Weekly_Sales    0\n",
       "dtype: int64"
      ]
     },
     "execution_count": 199,
     "metadata": {},
     "output_type": "execute_result"
    }
   ],
   "source": [
    "merged_df.dropna(subset=['Dept', 'Weekly_Sales'], inplace=True)\n",
    "merged_df.isnull().sum()"
   ]
  },
  {
   "cell_type": "markdown",
   "metadata": {},
   "source": [
    "### Write file to CSV"
   ]
  },
  {
   "cell_type": "code",
   "execution_count": 224,
   "metadata": {},
   "outputs": [],
   "source": [
    "merged_df.to_csv('cleaned_file.csv')"
   ]
  },
  {
   "cell_type": "markdown",
   "metadata": {},
   "source": [
    "### IGNORE!!!!"
   ]
  },
  {
   "cell_type": "code",
   "execution_count": null,
   "metadata": {},
   "outputs": [],
   "source": [
    "# Unique values in each column\n",
    "print('\\nFeatures Unique Values')\n",
    "for col in feat_df.columns:\n",
    "\n",
    "    print(col, '\\n', feat_df[col].unique())"
   ]
  },
  {
   "cell_type": "code",
   "execution_count": null,
   "metadata": {},
   "outputs": [],
   "source": [
    "cols = ['MarkDown1', 'MarkDown2', 'MarkDown3', 'MarkDown4', 'MarkDown5', 'CPI', 'Unemployment']\n",
    "plt.figure(figsize=(8, 5))\n",
    "for col in cols:\n",
    "    sns.histplot(data=feat_df, x=col)\n",
    "    plt.title('Distribution of' + col)\n",
    "    plt.xlabel(col)\n",
    "    plt.ylabel(\"Values\")\n",
    "    plt.show()"
   ]
  },
  {
   "cell_type": "code",
   "execution_count": 180,
   "metadata": {},
   "outputs": [],
   "source": [
    "def imputeNull(drop_col, impute_col, df, test_col):\n",
    "    df.set_index('Date')\n",
    "    print(df.info)\n",
    "    lin_r = LinearRegression()\n",
    "    temp_df = df.drop([drop_col], axis=1)\n",
    "\n",
    "    test_df = temp_df.loc[temp_df[impute_col].isnull()==True]\n",
    "    train_df = temp_df.loc[temp_df[impute_col].isnull()==False]\n",
    "    y = train_df[impute_col]\n",
    "    train_df = train_df.drop(impute_col, axis=1)\n",
    "    lin_r.fit(train_df, y)\n",
    "    test_df = test_df.drop(impute_col, axis=1)\n",
    "    # print(test_df.isnull().sum(), train_df.isnull().sum())\n",
    "    pred = lin_r.predict(test_df)\n",
    "    test_df[impute_col] = pred\n",
    "\n",
    "    train_df[impute_col] = y\n",
    "    print(train_df.head())\n",
    "    y = train_df[test_col]\n",
    "    train_df.drop(test_col, axis=1)\n",
    "\n",
    "    log_r = LogisticRegression()\n",
    "    log_r.fit(train_df, y)\n",
    "\n",
    "    LogisticRegression(C=1.0, class_weight=None, dual=False, fit_intercept=True,\n",
    "                   intercept_scaling=1, l1_ratio=None, max_iter=100,\n",
    "                   multi_class='auto', n_jobs=None, penalty='l2',\n",
    "                   random_state=None, solver='lbfgs', tol=0.0001, verbose=0,\n",
    "                   warm_start=False)\n",
    "    y_test = test_df[test_col]\n",
    "    test_df.drop(test_col, axis=1)\n",
    "    pred = log_r.predict(test_df)\n",
    "    print(metrics.accuracy_score(pred, y_test))\n",
    "\n",
    "\n",
    "\n"
   ]
  },
  {
   "cell_type": "code",
   "execution_count": null,
   "metadata": {},
   "outputs": [],
   "source": [
    "cols = ['MarkDown1', 'MarkDown2', 'MarkDown3', 'MarkDown4', 'MarkDown5', 'CPI', 'Unemployment']\n",
    "plt.figure(figsize=(8, 5))\n",
    "for col in cols:\n",
    "    sns.histplot(data=feat_df, x=col)\n",
    "    plt.title('Distribution of' + col)\n",
    "    plt.xlabel(col)\n",
    "    plt.ylabel(\"Values\")\n",
    "    plt.show()"
   ]
  },
  {
   "cell_type": "code",
   "execution_count": null,
   "metadata": {},
   "outputs": [],
   "source": [
    "imputeNull(['Unemployment', ], 'CPI', merged_df, 'Dept')"
   ]
  },
  {
   "cell_type": "code",
   "execution_count": null,
   "metadata": {},
   "outputs": [],
   "source": [
    "print(merged_df.info())\n",
    "lin_r = LinearRegression()\n",
    "merged_df.head()\n",
    "temp_df = merged_df.drop(['Unemployment'], axis=1)\n",
    "testdf = temp_df.loc[temp_df['CPI'].isnull()==True]\n",
    "traindf = temp_df.loc[temp_df['CPI'].isnull()==False]\n",
    "print(traindf.head())\n",
    "y = traindf['CPI']\n",
    "traindf = traindf.drop(\"CPI\",axis=1)\n",
    "lin_r.fit(traindf,y)\n",
    "testdf = testdf.drop(\"CPI\",axis=1)\n",
    "print(testdf.head())\n",
    "pred = lin_r.predict(testdf)\n",
    "testdf['CPI']= pred"
   ]
  }
 ],
 "metadata": {
  "kernelspec": {
   "display_name": "Python 3",
   "language": "python",
   "name": "python3"
  },
  "language_info": {
   "codemirror_mode": {
    "name": "ipython",
    "version": 3
   },
   "file_extension": ".py",
   "mimetype": "text/x-python",
   "name": "python",
   "nbconvert_exporter": "python",
   "pygments_lexer": "ipython3",
   "version": "3.9.6"
  }
 },
 "nbformat": 4,
 "nbformat_minor": 2
}
